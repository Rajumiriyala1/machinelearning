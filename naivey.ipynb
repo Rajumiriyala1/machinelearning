{
  "nbformat": 4,
  "nbformat_minor": 0,
  "metadata": {
    "colab": {
      "provenance": [],
      "authorship_tag": "ABX9TyNtUtvTc8OYgNN1HH55rsdQ",
      "include_colab_link": true
    },
    "kernelspec": {
      "name": "python3",
      "display_name": "Python 3"
    },
    "language_info": {
      "name": "python"
    }
  },
  "cells": [
    {
      "cell_type": "markdown",
      "metadata": {
        "id": "view-in-github",
        "colab_type": "text"
      },
      "source": [
        "<a href=\"https://colab.research.google.com/github/Rajumiriyala1/machinelearning/blob/main/naivey.ipynb\" target=\"_parent\"><img src=\"https://colab.research.google.com/assets/colab-badge.svg\" alt=\"Open In Colab\"/></a>"
      ]
    },
    {
      "cell_type": "code",
      "execution_count": 8,
      "metadata": {
        "colab": {
          "base_uri": "https://localhost:8080/"
        },
        "id": "bYoP-F-onMS2",
        "outputId": "9cb023c1-e4fe-45ca-e381-562f91524bf8"
      },
      "outputs": [
        {
          "output_type": "stream",
          "name": "stdout",
          "text": [
            "Accuracy: 0.67\n",
            "Precision: 0.67\n",
            "Recall: 1.00\n"
          ]
        }
      ],
      "source": [
        "import numpy as np\n",
        "from sklearn.model_selection import train_test_split\n",
        "from sklearn.feature_extraction.text import CountVectorizer\n",
        "from sklearn.naive_bayes import MultinomialNB\n",
        "from sklearn.metrics import accuracy_score, precision_score, recall_score\n",
        "\n",
        "# Sample text documents and their labels (positive and negative)\n",
        "documents = [\n",
        "    \"I love programming in Python\",\n",
        "    \"Python is great for data analysis\",\n",
        "    \"I hate bugs in my code\",\n",
        "    \"Debugging is a frustrating task\",\n",
        "    \"Data science is amazing\",\n",
        "    \"I enjoy learning new programming languages\",\n",
        "    \"I can't stand slow computers\",\n",
        "    \"Coding challenges are fun to solve\",\n",
        "    \"The weather is nice today\",\n",
        "    \"I feel good after solving coding problems\"\n",
        "]\n",
        "\n",
        "labels = ['positive', 'positive', 'negative', 'negative', 'positive',\n",
        "          'positive', 'negative', 'positive', 'neutral', 'positive']\n",
        "\n",
        "# Split data into training and test sets\n",
        "X_train, X_test, y_train, y_test = train_test_split(documents, labels, test_size=0.3, random_state=42)\n",
        "\n",
        "# Convert text to features using CountVectorizer (Tokenization and Vectorization)\n",
        "vectorizer = CountVectorizer()\n",
        "X_train_vect = vectorizer.fit_transform(X_train)\n",
        "X_test_vect = vectorizer.transform(X_test)\n",
        "\n",
        "# Create the Naïve Bayes model (Multinomial Naive Bayes)\n",
        "nb_classifier = MultinomialNB()\n",
        "\n",
        "# Train the model\n",
        "nb_classifier.fit(X_train_vect, y_train)\n",
        "\n",
        "# Make predictions on the test set\n",
        "y_pred = nb_classifier.predict(X_test_vect)\n",
        "\n",
        "# Calculate accuracy, precision, and recall\n",
        "accuracy = accuracy_score(y_test, y_pred)\n",
        "precision = precision_score(y_test, y_pred, average='weighted', labels=np.unique(y_pred))\n",
        "recall = recall_score(y_test, y_pred, average='weighted', labels=np.unique(y_pred))\n",
        "\n",
        "# Print the evaluation metrics\n",
        "print(f\"Accuracy: {accuracy:.2f}\")\n",
        "print(f\"Precision: {precision:.2f}\")\n",
        "print(f\"Recall: {recall:.2f}\")\n"
      ]
    }
  ]
}