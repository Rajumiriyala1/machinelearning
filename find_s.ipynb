{
  "nbformat": 4,
  "nbformat_minor": 0,
  "metadata": {
    "colab": {
      "provenance": [],
      "authorship_tag": "ABX9TyNOTnZzwGktuRVlw9d76g2B",
      "include_colab_link": true
    },
    "kernelspec": {
      "name": "python3",
      "display_name": "Python 3"
    },
    "language_info": {
      "name": "python"
    }
  },
  "cells": [
    {
      "cell_type": "markdown",
      "metadata": {
        "id": "view-in-github",
        "colab_type": "text"
      },
      "source": [
        "<a href=\"https://colab.research.google.com/github/Rajumiriyala1/machinelearning/blob/main/find_s.ipynb\" target=\"_parent\"><img src=\"https://colab.research.google.com/assets/colab-badge.svg\" alt=\"Open In Colab\"/></a>"
      ]
    },
    {
      "cell_type": "code",
      "execution_count": 1,
      "metadata": {
        "colab": {
          "base_uri": "https://localhost:8080/"
        },
        "id": "7G1qZ4e4bJQR",
        "outputId": "a695e0da-ce20-48af-f5f3-a1c3ac687a88"
      },
      "outputs": [
        {
          "output_type": "stream",
          "name": "stdout",
          "text": [
            "Most Specific Hypothesis: ['?', 'Daily', '?']\n"
          ]
        }
      ],
      "source": [
        "import numpy as np\n",
        "\n",
        "def find_s(training_data):\n",
        "    # Initialize the hypothesis with the first positive example\n",
        "    hypothesis = training_data[0][:-1]  # Exclude the last column (Growth)\n",
        "\n",
        "    for example in training_data:\n",
        "        if example[-1] == 'Yes':  # Check if the example is a positive instance\n",
        "            for i in range(len(hypothesis)):\n",
        "                # Generalize the hypothesis\n",
        "                if hypothesis[i] != example[i]:\n",
        "                    hypothesis[i] = '?'  # Use '?' to denote a generalization\n",
        "    return hypothesis\n",
        "\n",
        "# Sample dataset\n",
        "# Each row is [Soil Type, Watering Frequency, Sunlight, Growth]\n",
        "training_data = [\n",
        "    ['Sandy', 'Daily', 'Full', 'Yes'],\n",
        "    ['Clay', 'Weekly', 'Partial', 'No'],\n",
        "    ['Loamy', 'Daily', 'Full', 'Yes'],\n",
        "    ['Sandy', 'Weekly', 'Partial', 'No'],\n",
        "    ['Loamy', 'Daily', 'Partial', 'Yes']\n",
        "]\n",
        "\n",
        "# Run the FIND-S algorithm\n",
        "most_specific_hypothesis = find_s(training_data)\n",
        "print(\"Most Specific Hypothesis:\", most_specific_hypothesis)\n"
      ]
    }
  ]
}