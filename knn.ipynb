{
  "nbformat": 4,
  "nbformat_minor": 0,
  "metadata": {
    "colab": {
      "provenance": [],
      "authorship_tag": "ABX9TyO7o7AmHyPCblCYrVGDAbL6",
      "include_colab_link": true
    },
    "kernelspec": {
      "name": "python3",
      "display_name": "Python 3"
    },
    "language_info": {
      "name": "python"
    }
  },
  "cells": [
    {
      "cell_type": "markdown",
      "metadata": {
        "id": "view-in-github",
        "colab_type": "text"
      },
      "source": [
        "<a href=\"https://colab.research.google.com/github/Rajumiriyala1/machinelearning/blob/main/knn.ipynb\" target=\"_parent\"><img src=\"https://colab.research.google.com/assets/colab-badge.svg\" alt=\"Open In Colab\"/></a>"
      ]
    },
    {
      "cell_type": "code",
      "execution_count": 5,
      "metadata": {
        "colab": {
          "base_uri": "https://localhost:8080/"
        },
        "id": "bYoP-F-onMS2",
        "outputId": "2953535d-ab03-478d-8cd6-ee5c2f7dde80"
      },
      "outputs": [
        {
          "output_type": "stream",
          "name": "stdout",
          "text": [
            "Iris Dataset:\n",
            "   sepal length (cm)  sepal width (cm)  petal length (cm)  petal width (cm)  \\\n",
            "0                5.1               3.5                1.4               0.2   \n",
            "1                4.9               3.0                1.4               0.2   \n",
            "2                4.7               3.2                1.3               0.2   \n",
            "3                4.6               3.1                1.5               0.2   \n",
            "4                5.0               3.6                1.4               0.2   \n",
            "\n",
            "   target  \n",
            "0       0  \n",
            "1       0  \n",
            "2       0  \n",
            "3       0  \n",
            "4       0  \n",
            "\n",
            "Classification Report:\n",
            "              precision    recall  f1-score   support\n",
            "\n",
            "           0       1.00      1.00      1.00        10\n",
            "           1       1.00      1.00      1.00         9\n",
            "           2       1.00      1.00      1.00        11\n",
            "\n",
            "    accuracy                           1.00        30\n",
            "   macro avg       1.00      1.00      1.00        30\n",
            "weighted avg       1.00      1.00      1.00        30\n",
            "\n",
            "Accuracy: 1.0\n",
            "\n",
            "Correct and Wrong Predictions:\n",
            "Correct: True Label: versicolor, Predicted: versicolor\n",
            "Correct: True Label: setosa, Predicted: setosa\n",
            "Correct: True Label: virginica, Predicted: virginica\n",
            "Correct: True Label: versicolor, Predicted: versicolor\n",
            "Correct: True Label: versicolor, Predicted: versicolor\n",
            "Correct: True Label: setosa, Predicted: setosa\n",
            "Correct: True Label: versicolor, Predicted: versicolor\n",
            "Correct: True Label: virginica, Predicted: virginica\n",
            "Correct: True Label: versicolor, Predicted: versicolor\n",
            "Correct: True Label: versicolor, Predicted: versicolor\n",
            "Correct: True Label: virginica, Predicted: virginica\n",
            "Correct: True Label: setosa, Predicted: setosa\n",
            "Correct: True Label: setosa, Predicted: setosa\n",
            "Correct: True Label: setosa, Predicted: setosa\n",
            "Correct: True Label: setosa, Predicted: setosa\n",
            "Correct: True Label: versicolor, Predicted: versicolor\n",
            "Correct: True Label: virginica, Predicted: virginica\n",
            "Correct: True Label: versicolor, Predicted: versicolor\n",
            "Correct: True Label: versicolor, Predicted: versicolor\n",
            "Correct: True Label: virginica, Predicted: virginica\n",
            "Correct: True Label: setosa, Predicted: setosa\n",
            "Correct: True Label: virginica, Predicted: virginica\n",
            "Correct: True Label: setosa, Predicted: setosa\n",
            "Correct: True Label: virginica, Predicted: virginica\n",
            "Correct: True Label: virginica, Predicted: virginica\n",
            "Correct: True Label: virginica, Predicted: virginica\n",
            "Correct: True Label: virginica, Predicted: virginica\n",
            "Correct: True Label: virginica, Predicted: virginica\n",
            "Correct: True Label: setosa, Predicted: setosa\n",
            "Correct: True Label: setosa, Predicted: setosa\n"
          ]
        }
      ],
      "source": [
        "import pandas as pd\n",
        "from sklearn.datasets import load_iris\n",
        "from sklearn.model_selection import train_test_split\n",
        "from sklearn.neighbors import KNeighborsClassifier\n",
        "from sklearn.metrics import classification_report, accuracy_score\n",
        "\n",
        "# Load the Iris dataset\n",
        "iris = load_iris()\n",
        "X = iris.data\n",
        "y = iris.target\n",
        "\n",
        "# Create a DataFrame for better visualization\n",
        "iris_df = pd.DataFrame(data=X, columns=iris.feature_names)\n",
        "iris_df['target'] = y\n",
        "\n",
        "# Display the first few rows of the dataset\n",
        "print(\"Iris Dataset:\")\n",
        "print(iris_df.head())\n",
        "\n",
        "# Split the dataset into training and testing sets\n",
        "X_train, X_test, y_train, y_test = train_test_split(X, y, test_size=0.2, random_state=42)\n",
        "\n",
        "# Initialize the k-NN Classifier\n",
        "k = 3  # You can change the value of k\n",
        "knn_classifier = KNeighborsClassifier(n_neighbors=k)\n",
        "\n",
        "# Train the classifier\n",
        "knn_classifier.fit(X_train, y_train)\n",
        "\n",
        "# Make predictions on the test set\n",
        "y_pred = knn_classifier.predict(X_test)\n",
        "\n",
        "# Evaluate the model\n",
        "print(\"\\nClassification Report:\")\n",
        "print(classification_report(y_test, y_pred))\n",
        "\n",
        "print(\"Accuracy:\", accuracy_score(y_test, y_pred))\n",
        "\n",
        "# Print correct and wrong predictions\n",
        "print(\"\\nCorrect and Wrong Predictions:\")\n",
        "for i in range(len(y_test)):\n",
        "    if y_test[i] == y_pred[i]:\n",
        "        print(f\"Correct: True Label: {iris.target_names[y_test[i]]}, Predicted: {iris.target_names[y_pred[i]]}\")\n",
        "    else:\n",
        "        print(f\"Wrong: True Label: {iris.target_names[y_test[i]]}, Predicted: {iris.target_names[y_pred[i]]}\")"
      ]
    }
  ]
}